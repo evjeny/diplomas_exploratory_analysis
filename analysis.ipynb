{
 "cells": [
  {
   "cell_type": "code",
   "execution_count": 1,
   "metadata": {},
   "outputs": [],
   "source": [
    "import contextlib"
   ]
  },
  {
   "cell_type": "code",
   "execution_count": 2,
   "metadata": {},
   "outputs": [],
   "source": [
    "import numpy as np\n",
    "import pandas as pd\n",
    "import matplotlib.pyplot as plt\n",
    "import seaborn as sns"
   ]
  },
  {
   "cell_type": "code",
   "execution_count": null,
   "metadata": {},
   "outputs": [],
   "source": [
    "@contextlib.contextmanager\n",
    "def add_subplots(rows: int, cols: int, figsize: tuple[int] = (8, 6)):\n",
    "    _, axes = plt.subplots(rows, cols, figsize=figsize)\n",
    "    yield axes"
   ]
  },
  {
   "cell_type": "code",
   "execution_count": null,
   "metadata": {},
   "outputs": [],
   "source": [
    "hse_df = pd.read_json(\"parsed_results/hse_data.json\", orient=\"records\")\n",
    "itmo_df = pd.read_json(\"parsed_results/itmo_data.json\", orient=\"records\")"
   ]
  },
  {
   "cell_type": "code",
   "execution_count": null,
   "metadata": {},
   "outputs": [
    {
     "data": {
      "text/html": [
       "<div>\n",
       "<style scoped>\n",
       "    .dataframe tbody tr th:only-of-type {\n",
       "        vertical-align: middle;\n",
       "    }\n",
       "\n",
       "    .dataframe tbody tr th {\n",
       "        vertical-align: top;\n",
       "    }\n",
       "\n",
       "    .dataframe thead th {\n",
       "        text-align: right;\n",
       "    }\n",
       "</style>\n",
       "<table border=\"1\" class=\"dataframe\">\n",
       "  <thead>\n",
       "    <tr style=\"text-align: right;\">\n",
       "      <th></th>\n",
       "      <th>title</th>\n",
       "      <th>educational_programme</th>\n",
       "      <th>year</th>\n",
       "      <th>abstract</th>\n",
       "      <th>level</th>\n",
       "      <th>faculty</th>\n",
       "    </tr>\n",
       "  </thead>\n",
       "  <tbody>\n",
       "    <tr>\n",
       "      <th>0</th>\n",
       "      <td>Разработка программы управленческих действий п...</td>\n",
       "      <td>Управление образованием</td>\n",
       "      <td>2016</td>\n",
       "      <td>\\n\\tТема исследования: Разработка программы уп...</td>\n",
       "      <td>(Магистратура)</td>\n",
       "      <td>Институт образования</td>\n",
       "    </tr>\n",
       "  </tbody>\n",
       "</table>\n",
       "</div>"
      ],
      "text/plain": [
       "                                               title    educational_programme  \\\n",
       "0  Разработка программы управленческих действий п...  Управление образованием   \n",
       "\n",
       "   year                                           abstract           level  \\\n",
       "0  2016  \\n\\tТема исследования: Разработка программы уп...  (Магистратура)   \n",
       "\n",
       "                faculty  \n",
       "0  Институт образования  "
      ]
     },
     "execution_count": 80,
     "metadata": {},
     "output_type": "execute_result"
    }
   ],
   "source": [
    "hse_df.head(n=1)"
   ]
  },
  {
   "cell_type": "code",
   "execution_count": null,
   "metadata": {},
   "outputs": [
    {
     "data": {
      "text/html": [
       "<div>\n",
       "<style scoped>\n",
       "    .dataframe tbody tr th:only-of-type {\n",
       "        vertical-align: middle;\n",
       "    }\n",
       "\n",
       "    .dataframe tbody tr th {\n",
       "        vertical-align: top;\n",
       "    }\n",
       "\n",
       "    .dataframe thead th {\n",
       "        text-align: right;\n",
       "    }\n",
       "</style>\n",
       "<table border=\"1\" class=\"dataframe\">\n",
       "  <thead>\n",
       "    <tr style=\"text-align: right;\">\n",
       "      <th></th>\n",
       "      <th>title</th>\n",
       "      <th>educational_programme</th>\n",
       "      <th>year</th>\n",
       "      <th>abstract</th>\n",
       "      <th>level</th>\n",
       "      <th>faculty</th>\n",
       "    </tr>\n",
       "  </thead>\n",
       "  <tbody>\n",
       "    <tr>\n",
       "      <th>0</th>\n",
       "      <td>РАЗРАБОТКА МЕТОДА УДАЛЕНИЯ ОШИБОК ИЗ НАБОРА ЧТ...</td>\n",
       "      <td>010500 Прикладная математика и информатика</td>\n",
       "      <td>2011</td>\n",
       "      <td>Введение. Многие современные задачи биологии и...</td>\n",
       "      <td>бакалавр</td>\n",
       "      <td>Факультет информационных технологий и программ...</td>\n",
       "    </tr>\n",
       "  </tbody>\n",
       "</table>\n",
       "</div>"
      ],
      "text/plain": [
       "                                               title  \\\n",
       "0  РАЗРАБОТКА МЕТОДА УДАЛЕНИЯ ОШИБОК ИЗ НАБОРА ЧТ...   \n",
       "\n",
       "                        educational_programme  year  \\\n",
       "0  010500 Прикладная математика и информатика  2011   \n",
       "\n",
       "                                            abstract     level  \\\n",
       "0  Введение. Многие современные задачи биологии и...  бакалавр   \n",
       "\n",
       "                                             faculty  \n",
       "0  Факультет информационных технологий и программ...  "
      ]
     },
     "execution_count": 81,
     "metadata": {},
     "output_type": "execute_result"
    }
   ],
   "source": [
    "itmo_df.head(n=1)"
   ]
  },
  {
   "cell_type": "markdown",
   "metadata": {},
   "source": [
    "## clear data"
   ]
  },
  {
   "cell_type": "code",
   "execution_count": null,
   "metadata": {},
   "outputs": [],
   "source": [
    "def has_no_numbers(text: str) -> bool:\n",
    "    return not any(char.isdigit() for char in text)\n",
    "\n",
    "assert has_no_numbers(\"hello!!!\")\n",
    "assert not has_no_numbers(\"123\")\n",
    "assert not has_no_numbers(\"HELLO 123\")\n",
    "assert has_no_numbers(\"\")"
   ]
  },
  {
   "cell_type": "code",
   "execution_count": null,
   "metadata": {},
   "outputs": [],
   "source": [
    "def take_text_titles(df: pd.DataFrame) -> pd.DataFrame:\n",
    "    return df.loc[df[\"title\"].map(has_no_numbers)]"
   ]
  },
  {
   "cell_type": "code",
   "execution_count": null,
   "metadata": {},
   "outputs": [
    {
     "name": "stdout",
     "output_type": "stream",
     "text": [
      "before filter: 47221, after filter: 44538\n",
      "before filter: 1561, after filter: 1458\n"
     ]
    }
   ],
   "source": [
    "for df in [hse_df, itmo_df]:\n",
    "    print(f\"before filter: {len(df)}, after filter: {len(take_text_titles(df))}\")"
   ]
  },
  {
   "cell_type": "code",
   "execution_count": null,
   "metadata": {},
   "outputs": [],
   "source": [
    "def remove_numbers(text: str) -> str:\n",
    "    return \"\".join(filter(lambda char: not char.isdigit(), text))\n",
    "\n",
    "assert remove_numbers(\"hello\") == \"hello\"\n",
    "assert remove_numbers(\"1231923\") == \"\"\n",
    "assert remove_numbers(\"hello 123\") == \"hello \"\n",
    "assert remove_numbers(\"\") == \"\""
   ]
  },
  {
   "cell_type": "code",
   "execution_count": null,
   "metadata": {},
   "outputs": [],
   "source": [
    "def apply_to_column(df: pd.DataFrame, function, column: str) -> pd.DataFrame:\n",
    "    df_copy = df.copy()\n",
    "    df_copy[column] = df_copy[column].map(function)\n",
    "    return df_copy"
   ]
  },
  {
   "cell_type": "code",
   "execution_count": null,
   "metadata": {},
   "outputs": [
    {
     "name": "stdout",
     "output_type": "stream",
     "text": [
      "Changed 0\n",
      "Changed 1560\n"
     ]
    }
   ],
   "source": [
    "for df in [hse_df, itmo_df]:\n",
    "    transformed_df = apply_to_column(df, remove_numbers, column=\"educational_programme\")\n",
    "    changed_num = (df[\"educational_programme\"] != transformed_df[\"educational_programme\"]).sum()\n",
    "    print(f\"Changed {changed_num}\")"
   ]
  },
  {
   "cell_type": "code",
   "execution_count": null,
   "metadata": {},
   "outputs": [],
   "source": [
    "def unify_level(level: str) -> str:\n",
    "    if \"бакалавр\" in level.lower():\n",
    "        return \"bachelor\"\n",
    "    elif \"магистр\" in level.lower():\n",
    "        return \"master\"\n",
    "    else:\n",
    "        return \"unknown\"\n",
    "    \n",
    "assert unify_level(\"(БаКаЛаВрИаТ)\") == \"bachelor\"\n",
    "assert unify_level(\"Магистр\") == \"master\"\n",
    "assert unify_level(\"Йожик\") == \"unknown\""
   ]
  },
  {
   "cell_type": "code",
   "execution_count": null,
   "metadata": {},
   "outputs": [
    {
     "ename": "KeyboardInterrupt",
     "evalue": "",
     "output_type": "error",
     "traceback": [
      "\u001b[0;31m---------------------------------------------------------------------------\u001b[0m",
      "\u001b[0;31mKeyboardInterrupt\u001b[0m                         Traceback (most recent call last)",
      "\u001b[1;32m/home/evjeny/workspace/diplomas_exploratory_analysis/analysis.ipynb Cell 15'\u001b[0m in \u001b[0;36m<module>\u001b[0;34m\u001b[0m\n\u001b[1;32m      <a href='vscode-notebook-cell:/home/evjeny/workspace/diplomas_exploratory_analysis/analysis.ipynb#ch0000014?line=0'>1</a>\u001b[0m \u001b[39mfor\u001b[39;00m df \u001b[39min\u001b[39;00m [hse_df, itmo_df]:\n\u001b[0;32m----> <a href='vscode-notebook-cell:/home/evjeny/workspace/diplomas_exploratory_analysis/analysis.ipynb#ch0000014?line=1'>2</a>\u001b[0m     transformed_df \u001b[39m=\u001b[39m apply_to_column(df, unify_level, column\u001b[39m=\u001b[39;49m\u001b[39m\"\u001b[39;49m\u001b[39mlevel\u001b[39;49m\u001b[39m\"\u001b[39;49m)\n\u001b[1;32m      <a href='vscode-notebook-cell:/home/evjeny/workspace/diplomas_exploratory_analysis/analysis.ipynb#ch0000014?line=2'>3</a>\u001b[0m     \u001b[39mprint\u001b[39m(transformed_df[\u001b[39m\"\u001b[39m\u001b[39mlevel\u001b[39m\u001b[39m\"\u001b[39m]\u001b[39m.\u001b[39mvalue_counts())\n",
      "\u001b[1;32m/home/evjeny/workspace/diplomas_exploratory_analysis/analysis.ipynb Cell 12'\u001b[0m in \u001b[0;36mapply_to_column\u001b[0;34m(df, function, column)\u001b[0m\n\u001b[1;32m      <a href='vscode-notebook-cell:/home/evjeny/workspace/diplomas_exploratory_analysis/analysis.ipynb#ch0000011?line=0'>1</a>\u001b[0m \u001b[39mdef\u001b[39;00m \u001b[39mapply_to_column\u001b[39m(df: pd\u001b[39m.\u001b[39mDataFrame, function, column: \u001b[39mstr\u001b[39m) \u001b[39m-\u001b[39m\u001b[39m>\u001b[39m pd\u001b[39m.\u001b[39mDataFrame:\n\u001b[0;32m----> <a href='vscode-notebook-cell:/home/evjeny/workspace/diplomas_exploratory_analysis/analysis.ipynb#ch0000011?line=1'>2</a>\u001b[0m     df_copy \u001b[39m=\u001b[39m df\u001b[39m.\u001b[39;49mcopy()\n\u001b[1;32m      <a href='vscode-notebook-cell:/home/evjeny/workspace/diplomas_exploratory_analysis/analysis.ipynb#ch0000011?line=2'>3</a>\u001b[0m     df_copy[column] \u001b[39m=\u001b[39m df_copy[column]\u001b[39m.\u001b[39mmap(function)\n\u001b[1;32m      <a href='vscode-notebook-cell:/home/evjeny/workspace/diplomas_exploratory_analysis/analysis.ipynb#ch0000011?line=3'>4</a>\u001b[0m     \u001b[39mreturn\u001b[39;00m df_copy\n",
      "File \u001b[0;32m~/anaconda3/envs/dexp/lib/python3.9/site-packages/pandas/core/generic.py:6040\u001b[0m, in \u001b[0;36mNDFrame.copy\u001b[0;34m(self, deep)\u001b[0m\n\u001b[1;32m   <a href='file:///~/anaconda3/envs/dexp/lib/python3.9/site-packages/pandas/core/generic.py?line=5933'>5934</a>\u001b[0m \u001b[39m@final\u001b[39m\n\u001b[1;32m   <a href='file:///~/anaconda3/envs/dexp/lib/python3.9/site-packages/pandas/core/generic.py?line=5934'>5935</a>\u001b[0m \u001b[39mdef\u001b[39;00m \u001b[39mcopy\u001b[39m(\u001b[39mself\u001b[39m: NDFrameT, deep: bool_t \u001b[39m=\u001b[39m \u001b[39mTrue\u001b[39;00m) \u001b[39m-\u001b[39m\u001b[39m>\u001b[39m NDFrameT:\n\u001b[1;32m   <a href='file:///~/anaconda3/envs/dexp/lib/python3.9/site-packages/pandas/core/generic.py?line=5935'>5936</a>\u001b[0m     \u001b[39m\"\"\"\u001b[39;00m\n\u001b[1;32m   <a href='file:///~/anaconda3/envs/dexp/lib/python3.9/site-packages/pandas/core/generic.py?line=5936'>5937</a>\u001b[0m \u001b[39m    Make a copy of this object's indices and data.\u001b[39;00m\n\u001b[1;32m   <a href='file:///~/anaconda3/envs/dexp/lib/python3.9/site-packages/pandas/core/generic.py?line=5937'>5938</a>\u001b[0m \n\u001b[0;32m   (...)\u001b[0m\n\u001b[1;32m   <a href='file:///~/anaconda3/envs/dexp/lib/python3.9/site-packages/pandas/core/generic.py?line=6037'>6038</a>\u001b[0m \u001b[39m    dtype: object\u001b[39;00m\n\u001b[1;32m   <a href='file:///~/anaconda3/envs/dexp/lib/python3.9/site-packages/pandas/core/generic.py?line=6038'>6039</a>\u001b[0m \u001b[39m    \"\"\"\u001b[39;00m\n\u001b[0;32m-> <a href='file:///~/anaconda3/envs/dexp/lib/python3.9/site-packages/pandas/core/generic.py?line=6039'>6040</a>\u001b[0m     data \u001b[39m=\u001b[39m \u001b[39mself\u001b[39;49m\u001b[39m.\u001b[39;49m_mgr\u001b[39m.\u001b[39;49mcopy(deep\u001b[39m=\u001b[39;49mdeep)\n\u001b[1;32m   <a href='file:///~/anaconda3/envs/dexp/lib/python3.9/site-packages/pandas/core/generic.py?line=6040'>6041</a>\u001b[0m     \u001b[39mself\u001b[39m\u001b[39m.\u001b[39m_clear_item_cache()\n\u001b[1;32m   <a href='file:///~/anaconda3/envs/dexp/lib/python3.9/site-packages/pandas/core/generic.py?line=6041'>6042</a>\u001b[0m     \u001b[39mreturn\u001b[39;00m \u001b[39mself\u001b[39m\u001b[39m.\u001b[39m_constructor(data)\u001b[39m.\u001b[39m__finalize__(\u001b[39mself\u001b[39m, method\u001b[39m=\u001b[39m\u001b[39m\"\u001b[39m\u001b[39mcopy\u001b[39m\u001b[39m\"\u001b[39m)\n",
      "File \u001b[0;32m~/anaconda3/envs/dexp/lib/python3.9/site-packages/pandas/core/internals/managers.py:603\u001b[0m, in \u001b[0;36mBaseBlockManager.copy\u001b[0;34m(self, deep)\u001b[0m\n\u001b[1;32m    <a href='file:///~/anaconda3/envs/dexp/lib/python3.9/site-packages/pandas/core/internals/managers.py?line=599'>600</a>\u001b[0m \u001b[39melse\u001b[39;00m:\n\u001b[1;32m    <a href='file:///~/anaconda3/envs/dexp/lib/python3.9/site-packages/pandas/core/internals/managers.py?line=600'>601</a>\u001b[0m     new_axes \u001b[39m=\u001b[39m \u001b[39mlist\u001b[39m(\u001b[39mself\u001b[39m\u001b[39m.\u001b[39maxes)\n\u001b[0;32m--> <a href='file:///~/anaconda3/envs/dexp/lib/python3.9/site-packages/pandas/core/internals/managers.py?line=602'>603</a>\u001b[0m res \u001b[39m=\u001b[39m \u001b[39mself\u001b[39;49m\u001b[39m.\u001b[39;49mapply(\u001b[39m\"\u001b[39;49m\u001b[39mcopy\u001b[39;49m\u001b[39m\"\u001b[39;49m, deep\u001b[39m=\u001b[39;49mdeep)\n\u001b[1;32m    <a href='file:///~/anaconda3/envs/dexp/lib/python3.9/site-packages/pandas/core/internals/managers.py?line=604'>605</a>\u001b[0m res\u001b[39m.\u001b[39maxes \u001b[39m=\u001b[39m new_axes\n\u001b[1;32m    <a href='file:///~/anaconda3/envs/dexp/lib/python3.9/site-packages/pandas/core/internals/managers.py?line=606'>607</a>\u001b[0m \u001b[39mif\u001b[39;00m \u001b[39mself\u001b[39m\u001b[39m.\u001b[39mndim \u001b[39m>\u001b[39m \u001b[39m1\u001b[39m:\n\u001b[1;32m    <a href='file:///~/anaconda3/envs/dexp/lib/python3.9/site-packages/pandas/core/internals/managers.py?line=607'>608</a>\u001b[0m     \u001b[39m# Avoid needing to re-compute these\u001b[39;00m\n",
      "File \u001b[0;32m~/anaconda3/envs/dexp/lib/python3.9/site-packages/pandas/core/internals/managers.py:304\u001b[0m, in \u001b[0;36mBaseBlockManager.apply\u001b[0;34m(self, f, align_keys, ignore_failures, **kwargs)\u001b[0m\n\u001b[1;32m    <a href='file:///~/anaconda3/envs/dexp/lib/python3.9/site-packages/pandas/core/internals/managers.py?line=301'>302</a>\u001b[0m         applied \u001b[39m=\u001b[39m b\u001b[39m.\u001b[39mapply(f, \u001b[39m*\u001b[39m\u001b[39m*\u001b[39mkwargs)\n\u001b[1;32m    <a href='file:///~/anaconda3/envs/dexp/lib/python3.9/site-packages/pandas/core/internals/managers.py?line=302'>303</a>\u001b[0m     \u001b[39melse\u001b[39;00m:\n\u001b[0;32m--> <a href='file:///~/anaconda3/envs/dexp/lib/python3.9/site-packages/pandas/core/internals/managers.py?line=303'>304</a>\u001b[0m         applied \u001b[39m=\u001b[39m \u001b[39mgetattr\u001b[39;49m(b, f)(\u001b[39m*\u001b[39;49m\u001b[39m*\u001b[39;49mkwargs)\n\u001b[1;32m    <a href='file:///~/anaconda3/envs/dexp/lib/python3.9/site-packages/pandas/core/internals/managers.py?line=304'>305</a>\u001b[0m \u001b[39mexcept\u001b[39;00m (\u001b[39mTypeError\u001b[39;00m, \u001b[39mNotImplementedError\u001b[39;00m):\n\u001b[1;32m    <a href='file:///~/anaconda3/envs/dexp/lib/python3.9/site-packages/pandas/core/internals/managers.py?line=305'>306</a>\u001b[0m     \u001b[39mif\u001b[39;00m \u001b[39mnot\u001b[39;00m ignore_failures:\n",
      "File \u001b[0;32m~/anaconda3/envs/dexp/lib/python3.9/site-packages/pandas/core/internals/blocks.py:645\u001b[0m, in \u001b[0;36mBlock.copy\u001b[0;34m(self, deep)\u001b[0m\n\u001b[1;32m    <a href='file:///~/anaconda3/envs/dexp/lib/python3.9/site-packages/pandas/core/internals/blocks.py?line=642'>643</a>\u001b[0m values \u001b[39m=\u001b[39m \u001b[39mself\u001b[39m\u001b[39m.\u001b[39mvalues\n\u001b[1;32m    <a href='file:///~/anaconda3/envs/dexp/lib/python3.9/site-packages/pandas/core/internals/blocks.py?line=643'>644</a>\u001b[0m \u001b[39mif\u001b[39;00m deep:\n\u001b[0;32m--> <a href='file:///~/anaconda3/envs/dexp/lib/python3.9/site-packages/pandas/core/internals/blocks.py?line=644'>645</a>\u001b[0m     values \u001b[39m=\u001b[39m values\u001b[39m.\u001b[39;49mcopy()\n\u001b[1;32m    <a href='file:///~/anaconda3/envs/dexp/lib/python3.9/site-packages/pandas/core/internals/blocks.py?line=645'>646</a>\u001b[0m \u001b[39mreturn\u001b[39;00m \u001b[39mtype\u001b[39m(\u001b[39mself\u001b[39m)(values, placement\u001b[39m=\u001b[39m\u001b[39mself\u001b[39m\u001b[39m.\u001b[39m_mgr_locs, ndim\u001b[39m=\u001b[39m\u001b[39mself\u001b[39m\u001b[39m.\u001b[39mndim)\n",
      "\u001b[0;31mKeyboardInterrupt\u001b[0m: "
     ]
    }
   ],
   "source": [
    "for df in [hse_df, itmo_df]:\n",
    "    transformed_df = apply_to_column(df, unify_level, column=\"level\")\n",
    "    print(transformed_df[\"level\"].value_counts())"
   ]
  },
  {
   "cell_type": "code",
   "execution_count": null,
   "metadata": {},
   "outputs": [],
   "source": [
    "def take_known_levels(df: pd.DataFrame):\n",
    "    return df.loc[df[\"level\"].isin([\"bachelor\", \"master\"])]"
   ]
  },
  {
   "cell_type": "code",
   "execution_count": null,
   "metadata": {},
   "outputs": [],
   "source": [
    "def remove_punctuation(text: str, whitelisted_symbols=(\" \",)) -> str:\n",
    "    return \"\".join(filter(lambda char: char.isalpha() or char in whitelisted_symbols, text))\n",
    "\n",
    "assert remove_punctuation(\"hello!!!\") == \"hello\"\n",
    "assert remove_punctuation(\"hello, mister freeman\", whitelisted_symbols=(\" \", \",\")) == \"hello, mister freeman\"\n",
    "assert remove_punctuation(\"1*&@!#80123890\") == \"\""
   ]
  },
  {
   "cell_type": "code",
   "execution_count": null,
   "metadata": {},
   "outputs": [],
   "source": [
    "def extract_itmo_faculty(text: str) -> str:\n",
    "    if \",\" not in text:\n",
    "        return text\n",
    "    \n",
    "    faculty_parts = [part for part in text.split(\",\") if \"факультет\" in part.lower()]\n",
    "    if len(faculty_parts) > 0 and faculty_parts[0].strip():\n",
    "        return faculty_parts[0].strip()\n",
    "    \n",
    "    return text\n",
    "\n",
    "assert extract_itmo_faculty(\"Факультет точной механики и технологии, кафедра измерительных технологий и компьютерной томографии\") == \\\n",
    "    \"Факультет точной механики и технологии\"\n",
    "assert extract_itmo_faculty(\"Естественно-научный факультет, кафедра высшей математики\") == \\\n",
    "    \"Естественно-научный факультет\"\n",
    "assert extract_itmo_faculty(\"Инженерно-физический факультет, кафедра лазерных технологий и экологического приборостроения\") == \\\n",
    "    \"Инженерно-физический факультет\""
   ]
  },
  {
   "cell_type": "code",
   "execution_count": null,
   "metadata": {},
   "outputs": [],
   "source": [
    "def final_transform(df: pd.DataFrame) -> pd.DataFrame:\n",
    "    df = take_text_titles(df)\n",
    "    df = apply_to_column(df, remove_numbers, column=\"educational_programme\")\n",
    "    df = apply_to_column(df, unify_level, column=\"level\")\n",
    "    df = apply_to_column(df, remove_punctuation, column=\"educational_programme\")\n",
    "    df = apply_to_column(df, lambda text: text.strip(), column=\"educational_programme\")\n",
    "    df = apply_to_column(df, extract_itmo_faculty, column=\"faculty\")\n",
    "    df = take_known_levels(df)\n",
    "\n",
    "    return df"
   ]
  },
  {
   "cell_type": "code",
   "execution_count": null,
   "metadata": {},
   "outputs": [],
   "source": [
    "transformed_hse_df = final_transform(hse_df)\n",
    "transformed_itmo_df = final_transform(itmo_df)\n",
    "\n",
    "print(f\"HSE: {len(transformed_hse_df)} rows\")\n",
    "print(f\"ITMO: {len(transformed_itmo_df)}\")"
   ]
  },
  {
   "cell_type": "code",
   "execution_count": null,
   "metadata": {},
   "outputs": [],
   "source": [
    "transformed_hse_df.head()"
   ]
  },
  {
   "cell_type": "markdown",
   "metadata": {},
   "source": [
    "## plot distributions"
   ]
  },
  {
   "cell_type": "code",
   "execution_count": null,
   "metadata": {},
   "outputs": [],
   "source": [
    "def rename_title(name: str):\n",
    "    if name == \"title\":\n",
    "        return \"count\"\n",
    "    return name"
   ]
  },
  {
   "cell_type": "code",
   "execution_count": null,
   "metadata": {},
   "outputs": [],
   "source": [
    "def plot_year_distriubtion(df: pd.DataFrame, title: str, ax):\n",
    "    sns.countplot(x=\"year\", data=df, ax=ax, color=\"b\")\n",
    "    ax.set_title(title)"
   ]
  },
  {
   "cell_type": "code",
   "execution_count": null,
   "metadata": {},
   "outputs": [],
   "source": [
    "with add_subplots(1, 2, figsize=(12, 6)) as (hse_ax, itmo_ax):\n",
    "    plot_year_distriubtion(transformed_hse_df, \"HSE\", hse_ax)\n",
    "    plot_year_distriubtion(transformed_itmo_df, \"ITMO\", itmo_ax)"
   ]
  },
  {
   "cell_type": "code",
   "execution_count": null,
   "metadata": {},
   "outputs": [],
   "source": [
    "print(\"HSE programmes:\", transformed_hse_df[\"educational_programme\"].nunique())\n",
    "print(\"ITMO programmes:\", transformed_itmo_df[\"educational_programme\"].nunique())\n",
    "print()\n",
    "\n",
    "print(\"HSE faculties:\", transformed_hse_df[\"faculty\"].nunique())\n",
    "print(\"ITMO faculties:\", transformed_itmo_df[\"faculty\"].nunique())\n",
    "print()"
   ]
  },
  {
   "cell_type": "code",
   "execution_count": null,
   "metadata": {},
   "outputs": [],
   "source": [
    "def plot_diplomas_by(\n",
    "    df: pd.DataFrame, column: str, title: str,\n",
    "    ax, first_n: int = 5, drop_empty: bool = True\n",
    "):\n",
    "    groups = df[[column, \"title\"]].groupby(column, as_index=False).count().rename(columns=rename_title)\n",
    "    groups = groups.sort_values(by=\"count\", ascending=False)\n",
    "    if drop_empty:\n",
    "        def _count_letters(text: str) -> int:\n",
    "            return sum(int(c.isalpha()) for c in text)\n",
    "        mask = (groups[column].map(_count_letters) > 0)\n",
    "        groups = groups.loc[mask]\n",
    "\n",
    "    top_values = groups[:first_n]\n",
    "\n",
    "    ax.set_title(title)\n",
    "    sns.barplot(x=column, y=\"count\", data=top_values, ax=ax)\n",
    "\n",
    "    for item in ax.get_xticklabels():\n",
    "        item.set_rotation(45)\n",
    "\n",
    "\n",
    "with add_subplots(2, 2, figsize=(15, 15)) as ((hse_prog, itmo_prog), (hse_fac, itmo_fac)):\n",
    "    plot_diplomas_by(transformed_hse_df, column=\"educational_programme\", title=\"HSE top by programme\", ax=hse_prog)\n",
    "    plot_diplomas_by(transformed_itmo_df, column=\"educational_programme\", title=\"ITMO top by programme\", ax=itmo_prog)\n",
    "    plot_diplomas_by(transformed_hse_df, column=\"faculty\", title=\"HSE top by faculty\", ax=hse_fac)\n",
    "    plot_diplomas_by(transformed_itmo_df, column=\"faculty\", title=\"ITMO top by faculty\", ax=itmo_fac)\n",
    "\n",
    "plt.tight_layout()"
   ]
  },
  {
   "cell_type": "code",
   "execution_count": null,
   "metadata": {},
   "outputs": [],
   "source": [
    "def plot_levels(df: pd.DataFrame, title: str, ax):\n",
    "    ax.set_title(title)\n",
    "\n",
    "    groups = df[[\"level\", \"title\"]].groupby(\"level\", as_index=False).count() \\\n",
    "        .rename(columns=rename_title)\n",
    "    sns.barplot(x=\"level\", y=\"count\", data=groups, ax=ax)\n",
    "\n",
    "\n",
    "with add_subplots(1, 2, figsize=(12, 6)) as (hse_ax, itmo_ax):\n",
    "    plot_levels(transformed_hse_df, \"HSE levels\", hse_ax)\n",
    "    plot_levels(transformed_itmo_df, \"ITMO levels\", itmo_ax)"
   ]
  },
  {
   "cell_type": "markdown",
   "metadata": {},
   "source": [
    "## plot time progressions"
   ]
  },
  {
   "cell_type": "code",
   "execution_count": null,
   "metadata": {},
   "outputs": [],
   "source": [
    "def plot_levels_over_time(df: pd.DataFrame, title: str, ax):\n",
    "    groups = df[[\"year\", \"level\", \"title\"]] \\\n",
    "        .groupby([\"year\", \"level\"], as_index=False) \\\n",
    "        .count().rename(columns=rename_title)\n",
    "    ax.set_title(title)\n",
    "    sns.barplot(x=\"year\", y=\"count\", hue=\"level\", data=groups, ax=ax)\n",
    "\n",
    "\n",
    "with add_subplots(1, 2, figsize=(14, 6)) as (hse_ax, itmo_ax):\n",
    "    plot_levels_over_time(transformed_hse_df, \"HSE levels over time\", hse_ax)\n",
    "    plot_levels_over_time(transformed_itmo_df, \"ITMO levels over time\", itmo_ax)"
   ]
  },
  {
   "cell_type": "code",
   "execution_count": null,
   "metadata": {},
   "outputs": [],
   "source": [
    "def plot_programmes_over_time(df: pd.DataFrame, title: str, ax, n_year: int = 3):\n",
    "    groups = df[[\"year\", \"educational_programme\", \"title\"]] \\\n",
    "        .groupby([\"year\", \"educational_programme\"], as_index=False).count() \\\n",
    "        .sort_values(by=\"title\", ascending=False) \\\n",
    "        .groupby(\"year\", as_index=False) \\\n",
    "        .head(n_year).rename(columns=rename_title)\n",
    "    ax.set_title(title)\n",
    "    sns.barplot(x=\"year\", y=\"count\", hue=\"educational_programme\", data=groups, ax=ax)\n",
    "\n",
    "\n",
    "with add_subplots(1, 2, figsize=(20, 10)) as (hse_ax, itmo_ax):\n",
    "    plot_programmes_over_time(transformed_hse_df, \"HSE programmes over time\", hse_ax)\n",
    "    plot_programmes_over_time(transformed_itmo_df, \"ITMO programmes over time\", itmo_ax)"
   ]
  },
  {
   "cell_type": "code",
   "execution_count": null,
   "metadata": {},
   "outputs": [],
   "source": [
    "def plot_top_programmes_over_time(df: pd.DataFrame, title: str, ax, n_year: int = 3, n_window: int = 3):\n",
    "    year_popularity_groups = df[[\"year\", \"educational_programme\", \"title\"]] \\\n",
    "        .groupby([\"year\", \"educational_programme\"], as_index=False).count()\n",
    "    year_popularity_groups = year_popularity_groups.sort_values(by=\"title\", ascending=False) \\\n",
    "        .groupby(\"year\").head(n_year)\n",
    "    most_popular_programmes = year_popularity_groups[\"educational_programme\"].unique()\n",
    "\n",
    "    groups = df.loc[df[\"educational_programme\"] \\\n",
    "        .isin(most_popular_programmes), [\"year\", \"educational_programme\", \"title\"]] \\\n",
    "        .groupby([\"year\", \"educational_programme\"], as_index=False) \\\n",
    "        .count().sort_values(\"year\", ascending=True) \\\n",
    "        .rename(columns=rename_title)\n",
    "    \n",
    "    ax.set_title(title)\n",
    "    sns.lineplot(x=\"year\", y=\"count\", hue=\"educational_programme\", data=groups, ax=ax)\n",
    "\n",
    "\n",
    "with add_subplots(1, 2, figsize=(20, 10)) as (hse_ax, itmo_ax):\n",
    "    plot_top_programmes_over_time(transformed_hse_df, \"HSE top programmes over time\", hse_ax)\n",
    "    plot_top_programmes_over_time(transformed_itmo_df, \"ITMO top programmes over time\", itmo_ax)"
   ]
  },
  {
   "cell_type": "markdown",
   "metadata": {},
   "source": [
    "## count machine learning topics"
   ]
  },
  {
   "cell_type": "code",
   "execution_count": null,
   "metadata": {},
   "outputs": [],
   "source": [
    "from functools import partial\n",
    "import re\n",
    "from typing import Callable"
   ]
  },
  {
   "cell_type": "code",
   "execution_count": null,
   "metadata": {},
   "outputs": [],
   "source": [
    "def count_tokens(text: str, regex: re.Pattern) -> int:\n",
    "    return len(regex.findall(text))"
   ]
  },
  {
   "cell_type": "code",
   "execution_count": null,
   "metadata": {},
   "outputs": [],
   "source": [
    "def test_regex(regex: re.Pattern, matched_texts: list[str], not_matched_texts: list[str]):\n",
    "    def _upper_lower_text(text: str, upper_indices: list[int], lower_indices: list[str]):\n",
    "        def _transform_char(index: int) -> str:\n",
    "            if index in upper_indices:\n",
    "                return text[index].upper()\n",
    "            elif index in lower_indices:\n",
    "                return text[index].lower()\n",
    "            else:\n",
    "                return text[index]\n",
    "        \n",
    "        return \"\".join(_transform_char(i) for i in range(len(text)))\n",
    "    \n",
    "    def _get_transformed_texts(\n",
    "        texts: list[str], transforms: list[Callable[[str], str]]\n",
    "    ) -> list[str]:\n",
    "        result = []\n",
    "        for T in transforms:\n",
    "            result.extend(map(T, texts))\n",
    "        return result\n",
    "\n",
    "    text_transforms: list[Callable[[str], str]] = [\n",
    "        lambda text: text,\n",
    "        lambda text: text.upper(),\n",
    "        lambda text: text.lower(),\n",
    "        lambda text: _upper_lower_text(\n",
    "            text,\n",
    "            list(range(len(text) // 2)),\n",
    "            list(range(len(text) // 2, len(text)))\n",
    "        ),\n",
    "        lambda text: _upper_lower_text(\n",
    "            text,\n",
    "            list(range(len(text) // 2, len(text))),\n",
    "            list(range(len(text) // 2))\n",
    "        )\n",
    "    ]\n",
    "\n",
    "    n_cases = 0\n",
    "    for text in _get_transformed_texts(matched_texts, text_transforms):\n",
    "        assert count_tokens(text, regex) > 0\n",
    "        n_cases += 1\n",
    "    for text in _get_transformed_texts(not_matched_texts, text_transforms):\n",
    "        assert count_tokens(text, regex) == 0\n",
    "        n_cases += 1\n",
    "    print(f\"Tested {n_cases} cases\")"
   ]
  },
  {
   "cell_type": "code",
   "execution_count": null,
   "metadata": {},
   "outputs": [],
   "source": [
    "ml_regexp = re.compile(r\"machine\\s+learning\", flags=re.IGNORECASE)\n",
    "ml_ru_regexp = re.compile(r\"машинн[а-яА-Я]+\\s+обучен[а-яА-Я]+\", flags=re.IGNORECASE)\n",
    "\n",
    "test_regex(\n",
    "    ml_regexp,\n",
    "    [\"asdasd machine \\nlearning blalbaslf\"],\n",
    "    [\"asdjquwbd1092rhdfcnas safh8129hndfclask\"]\n",
    ")\n",
    "test_regex(\n",
    "    ml_ru_regexp,\n",
    "    [\n",
    "        \"машинное\\n\\t обучение, всегда бывшее первой задачей\",\n",
    "        \"авторы машинного обучения -- сделали выводы\"\n",
    "    ],\n",
    "    [\n",
    "        \"обучение машин\\n\\n, фывфыв\",\n",
    "        \"машинное контструктивное обучение\",\n",
    "        \"машинное\\n, обучение которых\"\n",
    "    ]\n",
    ")"
   ]
  },
  {
   "cell_type": "code",
   "execution_count": null,
   "metadata": {},
   "outputs": [],
   "source": [
    "ds_regexp = re.compile(r\"data\\s+science\", flags=re.IGNORECASE)\n",
    "\n",
    "test_regex(\n",
    "    ds_regexp,\n",
    "    [\"с развитием data \\t\\nscience\"],\n",
    "    [\"...based on data scientists could find all the answers\"]\n",
    ")"
   ]
  },
  {
   "cell_type": "code",
   "execution_count": null,
   "metadata": {},
   "outputs": [],
   "source": [
    "ai_regexp = re.compile(r\"artificial\\s+intelligence\", flags=re.IGNORECASE)\n",
    "ai_ru_regexp = re.compile(r\"искусствен[а-яА-Я]+\\s+интеллект[а-яА-Я]*\", flags=re.IGNORECASE)\n",
    "\n",
    "test_regex(\n",
    "    ai_regexp,\n",
    "    [\"found artificial\\n\\n\\tintelligence amazing...\"],\n",
    "    [\"it was artificial, though intelligence could help us\"]\n",
    ")\n",
    "test_regex(\n",
    "    ai_ru_regexp,\n",
    "    [\"искусственный интеллект\", \"искусственного интеллекта\"],\n",
    "    [\"искусственный, интеллект которого заставляет задуматься\"]\n",
    ")"
   ]
  },
  {
   "cell_type": "code",
   "execution_count": null,
   "metadata": {},
   "outputs": [],
   "source": [
    "ai_short_regexp = re.compile(r\"\\WAI\\W\", flags=re.IGNORECASE)\n",
    "ai_short_ru_regexp = re.compile(r\"\\WИИ\\W\", flags=re.IGNORECASE)\n",
    "\n",
    "test_regex(\n",
    "    ai_short_regexp,\n",
    "    [\"found new \\\"AI\\\" methods working\"],\n",
    "    [\"Aids becomes an issue\", \"baity was very successful!\"]\n",
    ")\n",
    "test_regex(\n",
    "    ai_short_ru_regexp,\n",
    "    [\"да, ИИ помогает в разработке\"],\n",
    "    [\"не нуждается в объяснении\", \"привет\"]\n",
    ")"
   ]
  },
  {
   "cell_type": "code",
   "execution_count": null,
   "metadata": {},
   "outputs": [],
   "source": [
    "def apply_counters(\n",
    "    df: pd.DataFrame,\n",
    "    counters: list[tuple[Callable[[str], int], str]],\n",
    "    total_count_column: str\n",
    ") -> pd.DataFrame:\n",
    "    df_copy = df.copy()\n",
    "    df_copy[total_count_column] = 0\n",
    "\n",
    "    for counter_function, new_column in counters:\n",
    "        df_copy[new_column] = df_copy[\"abstract\"].map(counter_function)\n",
    "        df_copy[total_count_column] = df_copy[total_count_column] + df_copy[new_column]\n",
    "\n",
    "    return df_copy"
   ]
  },
  {
   "cell_type": "code",
   "execution_count": null,
   "metadata": {},
   "outputs": [],
   "source": [
    "ds_counters = [\n",
    "    (partial(count_tokens, regex=ml_regexp), \"ml\"),\n",
    "    (partial(count_tokens, regex=ml_ru_regexp), \"ml_ru\"),\n",
    "    (partial(count_tokens, regex=ds_regexp), \"ds\"),\n",
    "    (partial(count_tokens, regex=ai_regexp), \"ai\"),\n",
    "    (partial(count_tokens, regex=ai_ru_regexp), \"ai_ru\"),\n",
    "    (partial(count_tokens, regex=ai_short_regexp), \"ai_short\"),\n",
    "    (partial(count_tokens, regex=ai_short_ru_regexp), \"ai_short_ru\"),\n",
    "]\n",
    "total_count_column = \"total_ds_count\"\n",
    "\n",
    "itmo_ds_counts_df = apply_counters(\n",
    "    transformed_itmo_df,\n",
    "    counters=ds_counters,\n",
    "    total_count_column=total_count_column\n",
    ")\n",
    "hse_ds_counts_df = apply_counters(\n",
    "    transformed_hse_df,\n",
    "    counters=ds_counters,\n",
    "    total_count_column=total_count_column\n",
    ")"
   ]
  },
  {
   "cell_type": "code",
   "execution_count": null,
   "metadata": {},
   "outputs": [],
   "source": [
    "def describe_ds_counts(df: pd.DataFrame, columns: list[str]):\n",
    "    for col in columns:\n",
    "        total_counts = df[col].sum()\n",
    "        nonzero_rows = (df[col] > 0).sum()\n",
    "        percent = nonzero_rows / len(df)\n",
    "        \n",
    "        print(f\"Column = {col}\")\n",
    "        print(f\"total occurencies = {total_counts}\")\n",
    "        print(f\"nonzero rows = {int(nonzero_rows)} ({percent * 100:.2f}%)\")\n",
    "        print()"
   ]
  },
  {
   "cell_type": "code",
   "execution_count": null,
   "metadata": {},
   "outputs": [],
   "source": [
    "ds_freq_columns = [\n",
    "    col_name for _, col_name in ds_counters\n",
    "] + [\"total_ds_count\"]"
   ]
  },
  {
   "cell_type": "code",
   "execution_count": null,
   "metadata": {},
   "outputs": [],
   "source": [
    "describe_ds_counts(itmo_ds_counts_df, ds_freq_columns)"
   ]
  },
  {
   "cell_type": "code",
   "execution_count": null,
   "metadata": {},
   "outputs": [],
   "source": [
    "describe_ds_counts(hse_ds_counts_df, ds_freq_columns)"
   ]
  },
  {
   "cell_type": "code",
   "execution_count": null,
   "metadata": {},
   "outputs": [],
   "source": [
    "def plot_ds_topics_over_time(df: pd.DataFrame, title: str, ax):\n",
    "    groups = df[[\"year\", \"total_ds_count\"]] \\\n",
    "        .groupby([\"year\"], as_index=False).sum() \\\n",
    "        .sort_values(by=\"year\", ascending=True)\n",
    "    ax.set_title(title)\n",
    "    sns.barplot(x=\"year\", y=\"total_ds_count\", data=groups, ax=ax, color=\"b\")\n",
    "\n",
    "\n",
    "with add_subplots(1, 2, figsize=(20, 10)) as (hse_ax, itmo_ax):\n",
    "    plot_ds_topics_over_time(hse_ds_counts_df, \"HSE DS topics\", hse_ax)\n",
    "    plot_ds_topics_over_time(itmo_ds_counts_df, \"ITMO DS topics\", itmo_ax)"
   ]
  },
  {
   "cell_type": "code",
   "execution_count": null,
   "metadata": {},
   "outputs": [],
   "source": []
  }
 ],
 "metadata": {
  "interpreter": {
   "hash": "aeb0e6ccbede6e9146c046a6ee50f8b8c61d605b7cc812e02d4afd42916d8e43"
  },
  "kernelspec": {
   "display_name": "Python 3.9.7 ('dexp')",
   "language": "python",
   "name": "python3"
  },
  "language_info": {
   "codemirror_mode": {
    "name": "ipython",
    "version": 3
   },
   "file_extension": ".py",
   "mimetype": "text/x-python",
   "name": "python",
   "nbconvert_exporter": "python",
   "pygments_lexer": "ipython3",
   "version": "3.9.7"
  },
  "orig_nbformat": 4
 },
 "nbformat": 4,
 "nbformat_minor": 2
}
