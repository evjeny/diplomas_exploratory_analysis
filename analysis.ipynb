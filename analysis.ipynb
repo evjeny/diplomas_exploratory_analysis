{
 "cells": [
  {
   "cell_type": "code",
   "execution_count": 1,
   "metadata": {},
   "outputs": [],
   "source": [
    "import pandas as pd\n",
    "import matplotlib.pyplot as plt\n",
    "import seaborn as sns"
   ]
  },
  {
   "cell_type": "code",
   "execution_count": 2,
   "metadata": {},
   "outputs": [],
   "source": [
    "hse_df = pd.read_json(\"parsed_results/hse_data.json\", orient=\"records\")\n",
    "itmo_df = pd.read_json(\"parsed_results/itmo_data.json\", orient=\"records\")"
   ]
  },
  {
   "cell_type": "code",
   "execution_count": 3,
   "metadata": {},
   "outputs": [
    {
     "data": {
      "text/html": [
       "<div>\n",
       "<style scoped>\n",
       "    .dataframe tbody tr th:only-of-type {\n",
       "        vertical-align: middle;\n",
       "    }\n",
       "\n",
       "    .dataframe tbody tr th {\n",
       "        vertical-align: top;\n",
       "    }\n",
       "\n",
       "    .dataframe thead th {\n",
       "        text-align: right;\n",
       "    }\n",
       "</style>\n",
       "<table border=\"1\" class=\"dataframe\">\n",
       "  <thead>\n",
       "    <tr style=\"text-align: right;\">\n",
       "      <th></th>\n",
       "      <th>title</th>\n",
       "      <th>educational_programme</th>\n",
       "      <th>year</th>\n",
       "      <th>abstract</th>\n",
       "      <th>level</th>\n",
       "      <th>faculty</th>\n",
       "    </tr>\n",
       "  </thead>\n",
       "  <tbody>\n",
       "    <tr>\n",
       "      <th>0</th>\n",
       "      <td>Разработка программы управленческих действий п...</td>\n",
       "      <td>Управление образованием</td>\n",
       "      <td>2016</td>\n",
       "      <td>\\n\\tТема исследования: Разработка программы уп...</td>\n",
       "      <td>(Магистратура)</td>\n",
       "      <td>Институт образования</td>\n",
       "    </tr>\n",
       "  </tbody>\n",
       "</table>\n",
       "</div>"
      ],
      "text/plain": [
       "                                               title    educational_programme  \\\n",
       "0  Разработка программы управленческих действий п...  Управление образованием   \n",
       "\n",
       "   year                                           abstract           level  \\\n",
       "0  2016  \\n\\tТема исследования: Разработка программы уп...  (Магистратура)   \n",
       "\n",
       "                faculty  \n",
       "0  Институт образования  "
      ]
     },
     "execution_count": 3,
     "metadata": {},
     "output_type": "execute_result"
    }
   ],
   "source": [
    "hse_df.head(n=1)"
   ]
  },
  {
   "cell_type": "code",
   "execution_count": 4,
   "metadata": {},
   "outputs": [
    {
     "data": {
      "text/html": [
       "<div>\n",
       "<style scoped>\n",
       "    .dataframe tbody tr th:only-of-type {\n",
       "        vertical-align: middle;\n",
       "    }\n",
       "\n",
       "    .dataframe tbody tr th {\n",
       "        vertical-align: top;\n",
       "    }\n",
       "\n",
       "    .dataframe thead th {\n",
       "        text-align: right;\n",
       "    }\n",
       "</style>\n",
       "<table border=\"1\" class=\"dataframe\">\n",
       "  <thead>\n",
       "    <tr style=\"text-align: right;\">\n",
       "      <th></th>\n",
       "      <th>title</th>\n",
       "      <th>educational_programme</th>\n",
       "      <th>year</th>\n",
       "      <th>abstract</th>\n",
       "      <th>level</th>\n",
       "      <th>faculty</th>\n",
       "    </tr>\n",
       "  </thead>\n",
       "  <tbody>\n",
       "    <tr>\n",
       "      <th>0</th>\n",
       "      <td>РАЗРАБОТКА МЕТОДА УДАЛЕНИЯ ОШИБОК ИЗ НАБОРА ЧТ...</td>\n",
       "      <td>010500 Прикладная математика и информатика</td>\n",
       "      <td>2011</td>\n",
       "      <td>Введение. Многие современные задачи биологии и...</td>\n",
       "      <td>бакалавр</td>\n",
       "      <td>Факультет информационных технологий и программ...</td>\n",
       "    </tr>\n",
       "  </tbody>\n",
       "</table>\n",
       "</div>"
      ],
      "text/plain": [
       "                                               title  \\\n",
       "0  РАЗРАБОТКА МЕТОДА УДАЛЕНИЯ ОШИБОК ИЗ НАБОРА ЧТ...   \n",
       "\n",
       "                        educational_programme  year  \\\n",
       "0  010500 Прикладная математика и информатика  2011   \n",
       "\n",
       "                                            abstract     level  \\\n",
       "0  Введение. Многие современные задачи биологии и...  бакалавр   \n",
       "\n",
       "                                             faculty  \n",
       "0  Факультет информационных технологий и программ...  "
      ]
     },
     "execution_count": 4,
     "metadata": {},
     "output_type": "execute_result"
    }
   ],
   "source": [
    "itmo_df.head(n=1)"
   ]
  },
  {
   "cell_type": "markdown",
   "metadata": {},
   "source": [
    "## clear data"
   ]
  },
  {
   "cell_type": "code",
   "execution_count": 5,
   "metadata": {},
   "outputs": [],
   "source": [
    "def has_no_numbers(text: str) -> bool:\n",
    "    return not any(char.isdigit() for char in text)\n",
    "\n",
    "assert has_no_numbers(\"hello!!!\")\n",
    "assert not has_no_numbers(\"123\")\n",
    "assert not has_no_numbers(\"HELLO 123\")\n",
    "assert has_no_numbers(\"\")"
   ]
  },
  {
   "cell_type": "code",
   "execution_count": 6,
   "metadata": {},
   "outputs": [],
   "source": [
    "def take_text_titles(df: pd.DataFrame) -> pd.DataFrame:\n",
    "    return df.loc[df[\"title\"].map(has_no_numbers)]"
   ]
  },
  {
   "cell_type": "code",
   "execution_count": 7,
   "metadata": {},
   "outputs": [
    {
     "name": "stdout",
     "output_type": "stream",
     "text": [
      "before filter: 47221, after filter: 44538\n",
      "before filter: 1561, after filter: 1458\n"
     ]
    }
   ],
   "source": [
    "for df in [hse_df, itmo_df]:\n",
    "    print(f\"before filter: {len(df)}, after filter: {len(take_text_titles(df))}\")"
   ]
  },
  {
   "cell_type": "code",
   "execution_count": 8,
   "metadata": {},
   "outputs": [],
   "source": [
    "def remove_numbers(text: str) -> str:\n",
    "    return \"\".join(filter(lambda char: not char.isdigit(), text))\n",
    "\n",
    "assert remove_numbers(\"hello\") == \"hello\"\n",
    "assert remove_numbers(\"1231923\") == \"\"\n",
    "assert remove_numbers(\"hello 123\") == \"hello \"\n",
    "assert remove_numbers(\"\") == \"\""
   ]
  },
  {
   "cell_type": "code",
   "execution_count": 9,
   "metadata": {},
   "outputs": [],
   "source": [
    "def apply_to_column(df: pd.DataFrame, function, column: str) -> pd.DataFrame:\n",
    "    df_copy = df.copy()\n",
    "    df_copy[column] = df_copy[column].map(function)\n",
    "    return df_copy"
   ]
  },
  {
   "cell_type": "code",
   "execution_count": 10,
   "metadata": {},
   "outputs": [
    {
     "name": "stdout",
     "output_type": "stream",
     "text": [
      "Changed 0\n",
      "Changed 1560\n"
     ]
    }
   ],
   "source": [
    "for df in [hse_df, itmo_df]:\n",
    "    transformed_df = apply_to_column(df, remove_numbers, column=\"educational_programme\")\n",
    "    changed_num = (df[\"educational_programme\"] != transformed_df[\"educational_programme\"]).sum()\n",
    "    print(f\"Changed {changed_num}\")"
   ]
  },
  {
   "cell_type": "code",
   "execution_count": 11,
   "metadata": {},
   "outputs": [],
   "source": [
    "def unify_level(level: str) -> str:\n",
    "    if \"бакалавр\" in level.lower():\n",
    "        return \"bachelor\"\n",
    "    elif \"магистр\" in level.lower():\n",
    "        return \"master\"\n",
    "    else:\n",
    "        return \"unknown\"\n",
    "    \n",
    "assert unify_level(\"(БаКаЛаВрИаТ)\") == \"bachelor\"\n",
    "assert unify_level(\"Магистр\") == \"master\"\n",
    "assert unify_level(\"Йожик\") == \"unknown\""
   ]
  },
  {
   "cell_type": "code",
   "execution_count": 12,
   "metadata": {},
   "outputs": [
    {
     "name": "stdout",
     "output_type": "stream",
     "text": [
      "bachelor    28932\n",
      "master      17711\n",
      "unknown       578\n",
      "Name: level, dtype: int64\n",
      "master      784\n",
      "bachelor    507\n",
      "unknown     270\n",
      "Name: level, dtype: int64\n"
     ]
    }
   ],
   "source": [
    "for df in [hse_df, itmo_df]:\n",
    "    transformed_df = apply_to_column(df, unify_level, column=\"level\")\n",
    "    print(transformed_df[\"level\"].value_counts())"
   ]
  },
  {
   "cell_type": "code",
   "execution_count": 13,
   "metadata": {},
   "outputs": [],
   "source": [
    "def remove_punctuation(text: str, whitelisted_symbols=(\",\", \" \")) -> str:\n",
    "    return \"\".join(filter(lambda char: char.isalpha() or char in whitelisted_symbols, text))\n",
    "\n",
    "assert remove_punctuation(\"hello!!!\") == \"hello\"\n",
    "assert remove_punctuation(\"hello, mister freeman\") == \"hello, mister freeman\"\n",
    "assert remove_punctuation(\"1*&@!#80123890\") == \"\""
   ]
  },
  {
   "cell_type": "code",
   "execution_count": 14,
   "metadata": {},
   "outputs": [],
   "source": [
    "def final_transform(df: pd.DataFrame) -> pd.DataFrame:\n",
    "    df = take_text_titles(df)\n",
    "    df = apply_to_column(df, remove_numbers, column=\"educational_programme\")\n",
    "    df = apply_to_column(df, unify_level, column=\"level\")\n",
    "    df = apply_to_column(df, remove_punctuation, column=\"educational_programme\")\n",
    "    df = apply_to_column(df, lambda text: text.strip(), column=\"educational_programme\")\n",
    "\n",
    "    return df"
   ]
  },
  {
   "cell_type": "code",
   "execution_count": 15,
   "metadata": {},
   "outputs": [
    {
     "name": "stdout",
     "output_type": "stream",
     "text": [
      "HSE: 44538 rows\n",
      "ITMO: 1458\n"
     ]
    }
   ],
   "source": [
    "transformed_hse_df = final_transform(hse_df)\n",
    "transformed_itmo_df = final_transform(itmo_df)\n",
    "\n",
    "print(f\"HSE: {len(transformed_hse_df)} rows\")\n",
    "print(f\"ITMO: {len(transformed_itmo_df)}\")"
   ]
  },
  {
   "cell_type": "markdown",
   "metadata": {},
   "source": [
    "## plot distributions"
   ]
  },
  {
   "cell_type": "code",
   "execution_count": 16,
   "metadata": {},
   "outputs": [],
   "source": [
    "def plot_year_distriubtion(df: pd.DataFrame, title: str, ax):\n",
    "    sns.countplot(x=\"year\", data=df, ax=ax, color=\"b\")\n",
    "    ax.set_title(title)"
   ]
  },
  {
   "cell_type": "code",
   "execution_count": 17,
   "metadata": {},
   "outputs": [
    {
     "data": {
      "image/png": "[encoded data removed]",
      "text/plain": [
       "<Figure size 720x360 with 2 Axes>"
      ]
     },
     "metadata": {
      "needs_background": "light"
     },
     "output_type": "display_data"
    }
   ],
   "source": [
    "fig, (hse_ax, itmo_ax) = plt.subplots(1, 2, figsize=(10, 5))\n",
    "plot_year_distriubtion(transformed_hse_df, \"HSE\", hse_ax)\n",
    "plot_year_distriubtion(transformed_itmo_df, \"ITMO\", itmo_ax)"
   ]
  },
  {
   "cell_type": "code",
   "execution_count": 18,
   "metadata": {},
   "outputs": [
    {
     "name": "stdout",
     "output_type": "stream",
     "text": [
      "HSE programmes: 261\n",
      "ITMO programmes: 224\n",
      "\n",
      "HSE faculties: 47\n",
      "ITMO faculties: 281\n",
      "\n"
     ]
    }
   ],
   "source": [
    "print(\"HSE programmes:\", transformed_hse_df[\"educational_programme\"].nunique())\n",
    "print(\"ITMO programmes:\", transformed_itmo_df[\"educational_programme\"].nunique())\n",
    "print()\n",
    "\n",
    "print(\"HSE faculties:\", transformed_hse_df[\"faculty\"].nunique())\n",
    "print(\"ITMO faculties:\", transformed_itmo_df[\"faculty\"].nunique())\n",
    "print()"
   ]
  },
  {
   "cell_type": "code",
   "execution_count": 19,
   "metadata": {},
   "outputs": [],
   "source": [
    "def count_diplomas_by_programme(df: pd.DataFrame, first_n: int = 10):\n",
    "    groups = df[[\"educational_programme\", \"title\"]].groupby(\"educational_programme\").count()\n",
    "    groups = groups.sort_values(by=\"title\", ascending=False)\n",
    "    print(groups[:first_n])"
   ]
  },
  {
   "cell_type": "code",
   "execution_count": 20,
   "metadata": {},
   "outputs": [
    {
     "name": "stdout",
     "output_type": "stream",
     "text": [
      "HSE top programmes:\n",
      "                                            title\n",
      "educational_programme                            \n",
      "Экономика                                    3658\n",
      "Юриспруденция                                3177\n",
      "Менеджмент                                   3022\n",
      "Бизнесинформатика                            2105\n",
      "Дизайн                                       1253\n",
      "Государственное и муниципальное управление   1236\n",
      "Мировая экономика                            1095\n",
      "Логистика и управление цепями поставок       1049\n",
      "Социология                                   1044\n",
      "Реклама и связи с общественностью             899\n",
      "\n",
      "ITMO top programmes:\n",
      "                                        title\n",
      "educational_programme                        \n",
      "Оптотехника                               130\n",
      "Приборостроение                           101\n",
      "Техническая физика                         87\n",
      "Информатика и вычислительная техника       83\n",
      "Фотоника и оптоинформатика                 67\n",
      "Прикладная математика и информатика        53\n",
      "Информационные системы и технологии        38\n",
      "Лазерная техника и лазерные технологии     38\n",
      "Менеджмент                                 35\n",
      "Программная инженерия                      33\n",
      "\n"
     ]
    }
   ],
   "source": [
    "print(\"HSE top programmes:\")\n",
    "count_diplomas_by_programme(transformed_hse_df)\n",
    "print()\n",
    "\n",
    "print(\"ITMO top programmes:\")\n",
    "count_diplomas_by_programme(transformed_itmo_df)\n",
    "print()"
   ]
  }
 ],
 "metadata": {
  "interpreter": {
   "hash": "aeb0e6ccbede6e9146c046a6ee50f8b8c61d605b7cc812e02d4afd42916d8e43"
  },
  "kernelspec": {
   "display_name": "Python 3.9.7 ('dexp')",
   "language": "python",
   "name": "python3"
  },
  "language_info": {
   "codemirror_mode": {
    "name": "ipython",
    "version": 3
   },
   "file_extension": ".py",
   "mimetype": "text/x-python",
   "name": "python",
   "nbconvert_exporter": "python",
   "pygments_lexer": "ipython3",
   "version": "3.9.7"
  },
  "orig_nbformat": 4
 },
 "nbformat": 4,
 "nbformat_minor": 2
}
